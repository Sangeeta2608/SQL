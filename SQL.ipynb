{
  "nbformat": 4,
  "nbformat_minor": 0,
  "metadata": {
    "colab": {
      "provenance": []
    },
    "kernelspec": {
      "name": "python3",
      "display_name": "Python 3"
    },
    "language_info": {
      "name": "python"
    }
  },
  "cells": [
    {
      "cell_type": "markdown",
      "source": [
        "#1.Create a table called employees with the following structure?\n",
        ": emp_id (integer, should not be NULL and should be a primary key)Q\n",
        ": emp_name (text, should not be NULL)\n",
        ": age (integer, should have a check constraint to ensure the age is at least 18)\n",
        ": email (text, should be unique for each employee)Q\n",
        ": salary (decimal, with a default value of 30,000).\n",
        "Write the SQL query to create the above table with all constraints.\n",
        "\n",
        "CREATE TABLE employees (\n",
        "    emp_id INTEGER PRIMARY KEY NOT NULL,\n",
        "    emp_name TEXT NOT NULL,\n",
        "    age INTEGER CHECK (age >= 18),\n",
        "    email TEXT UNIQUE,\n",
        "    salary DECIMAL DEFAULT 30000\n",
        ");\n",
        "\n"
      ],
      "metadata": {
        "id": "94r196OkCnZ6"
      }
    },
    {
      "cell_type": "code",
      "source": [
        "#1.Create a table called employees with the following structure?\n",
        "#: emp_id (integer, should not be NULL and should be a primary key)\n",
        "#: emp_name (text, should not be NULL)\n",
        "#: age (integer, should have a check constraint to ensure the age is at least 18)\n",
        "#: email (text, should be unique for each employee)Q\n",
        "#: salary (decimal, with a default value of 30,000).\n",
        "#Write the SQL query to create the above table with all constraints.\n",
        "\n",
        "CREATE TABLE employees (\n",
        "    emp_id INTEGER PRIMARY KEY NOT NULL,\n",
        "    emp_name TEXT NOT NULL,\n",
        "    age INTEGER CHECK (age >= 18),\n",
        "    email TEXT UNIQUE,\n",
        "    salary DECIMAL DEFAULT 30000\n",
        ");"
      ],
      "metadata": {
        "id": "yToRZsxwMzW2"
      },
      "execution_count": null,
      "outputs": []
    },
    {
      "cell_type": "markdown",
      "source": [
        "#2.Explain the purpose of constraints and how they help maintain data integrity in a database. Provide examples of common types of constraints.\n",
        "Constraints in a database are rules applied to table columns to ensure the accuracy, reliability, and integrity of the data.\n",
        "They enforce standards that prevent invalid, duplicate, or inconsistent entries, thereby helping maintain data quality and consistency across relationships.\n",
        "Here are some common constraints:\n",
        "PRIMARY KEY-Uniquely identifies each row in a table. Cannot be NULL\n",
        "Eg:emp_id INTEGER PRIMARY KEY\n",
        "NOT NULL-Ensures a column must have a value\tEg:emp_name TEXT NOT NULL\n",
        "UNIQUE-Ensures all values in a column are different\tEg:email TEXT UNIQUE\n",
        "CHECK-Ensures that values meet a specific condition\tEg:age INTEGER CHECK (age >= 18)\n",
        "DEFAULT-Assigns a default value if none is provided\tEg:salary DECIMAL DEFAULT 30000\n",
        "FOREIGN KEY-Ensures a value exists in another table’s column (enforces relationships)\tEg:dept_id INTEGER REFERENCES departments(dept_id)"
      ],
      "metadata": {
        "id": "pwZPaWOIZk5E"
      }
    },
    {
      "cell_type": "markdown",
      "source": [
        "#3.Why would you apply the NOT NULL constraint to a column? Can a primary key contain NULL values? Justify your answer.\n",
        "The NOT NULL constraint is applied to a column to ensure that a value must always be provided. It prevents missing or incomplete data by disallowing NULL values.\n",
        "A primary key cannot contain NULL values.\n",
        "A primary key uniquely identifies each row in a table.\n",
        "NULL represents an unknown or missing value, and therefore:\n",
        "Cannot guarantee uniqueness\n",
        "Cannot be reliably used to identify a row."
      ],
      "metadata": {
        "id": "5iWvdtI0c3yG"
      }
    },
    {
      "cell_type": "markdown",
      "source": [
        "#4.Explain the steps and SQL commands used to add or remove constraints on an existing table. Provide an example for both adding and removing a constraint.\n",
        "To modify constraints on an existing table, you typically use the ALTER TABLE command in SQL. Constraints help enforce rules, but sometimes you may need to add new rules or remove outdated ones during schema evolution.\n",
        "Add a Constraint:\n",
        "ALTER TABLE table_name\n",
        "ADD CONSTRAINT constraint_name constraint_type (column_name);\n",
        "Remove a constraint:\n",
        "ALTER TABLE table_name\n",
        "DROP CONSTRAINT constraint_name;\n"
      ],
      "metadata": {
        "id": "8TlSxXmNdg9m"
      }
    },
    {
      "cell_type": "markdown",
      "source": [
        "#5. Explain the consequences of attempting to insert, update, or delete data in a way that violates constraints.Provide an example of an error message that might occur when violating a constraint.\n",
        "Attempting to insert, update, or delete data in a way that violates constraints will result in an error — the database rejects the operation to protect data integrity.\n",
        "Constraints act like rules or contracts, and violating them typically throws an error with a clear explanation.\n",
        "Common Consequences of Violating Constraints\n",
        "PRIMARY KEY-Cannot insert duplicate or NULL key\n",
        "NOT NULL-Cannot insert or update a column with a NULL value\n",
        "UNIQUE-Cannot insert or update duplicate values\n",
        "CHECK-Cannot insert or update data that fails the condition\n",
        "FOREIGN KEY-Cannot insert a non-existing reference or delete referenced rows\n",
        "Example of primary key violation:\n",
        "INSERT INTO employees (emp_id, emp_name) VALUES (101, 'Alice');\n",
        "Error Msg:\n",
        "ERROR: duplicate key value violates primary key constraint \"employees_pkey\"\n",
        "DETAIL: Key (emp_id)=(101) already exists.\n",
        "\n",
        "\n"
      ],
      "metadata": {
        "id": "6mUHoZDbj9Ye"
      }
    },
    {
      "cell_type": "markdown",
      "source": [
        "#6.You created a products table without constraints as follows:\n",
        "CREATE TABLE products (\n",
        "    product_id INT,\n",
        "    product_name VARCHAR(50),\n",
        "    price DECIMAL(10, 2));\n",
        "Now, you realise that?\n",
        ": The product_id should be a primary keyQ\n",
        ": The price should have a default value of 50.00\n",
        "1.Add PRIMARY KEY on product_id\n",
        "ALTER TABLE products\n",
        "ADD CONSTRAINT pk_product_id\n",
        "PRIMARY KEY (product_id);\n",
        "2.Add a DEFAULT value for price\n",
        "ALTER TABLE products\n",
        "ALTER COLUMN price SET DEFAULT 50.00;\n",
        "3.Verify\n",
        "INSERT INTO products (product_id, product_name)\n",
        "VALUES (1, 'Notebook');\n",
        "\n",
        "\n"
      ],
      "metadata": {
        "id": "ffpnSDMYk0-1"
      }
    },
    {
      "cell_type": "markdown",
      "source": [
        "#7.Write a query to fetch the student_name and class_name for each student using an INNER JOIN.\n",
        "SELECT\n",
        "    students.student_name,\n",
        "    classes.class_name\n",
        "FROM\n",
        "    students\n",
        "INNER JOIN\n",
        "    classes ON students.class_id = classes.class_id;\n",
        "\n"
      ],
      "metadata": {
        "id": "9xDRXWFKmOIX"
      }
    },
    {
      "cell_type": "markdown",
      "source": [
        "#8.Write a query that shows all order_id, customer_name, and product_name, ensuring that all products are listed even if they are not associated with an order Hint: (use INNER JOIN and LEFT JOIN)\n",
        "SELECT\n",
        "    p.product_name,\n",
        "    o.order_id,\n",
        "    c.customer_name\n",
        "FROM\n",
        "    products p\n",
        "LEFT JOIN\n",
        "    orders o ON p.order_id = o.order_id\n",
        "INNER JOIN\n",
        "    customers c ON o.customer_id = c.customer_id;\n"
      ],
      "metadata": {
        "id": "N03yn_WFKhAd"
      }
    },
    {
      "cell_type": "markdown",
      "source": [
        "#9.Write a query to find the total sales amount for each product using an INNER JOIN and the SUM() function.\n",
        "SELECT\n",
        "    p.product_name,\n",
        "    SUM(s.amount) AS total_sales\n",
        "FROM\n",
        "    sales s\n",
        "INNER JOIN\n",
        "    products p ON s.product_id = p.product_id\n",
        "GROUP BY\n",
        "    p.product_name;\n"
      ],
      "metadata": {
        "id": "3eZH7K9mOxLq"
      }
    },
    {
      "cell_type": "markdown",
      "source": [
        "#10.Write a query to display the order_id, customer_name, and the quantity of products ordered by each customer using an INNER JOIN between all three tables.\n",
        "SELECT\n",
        "    o.order_id,\n",
        "    c.customer_name,\n",
        "    od.quantity\n",
        "FROM\n",
        "    orders o\n",
        "INNER JOIN\n",
        "    customers c ON o.customer_id = c.customer_id\n",
        "INNER JOIN\n",
        "    order_details od ON o.order_id = od.order_id;\n"
      ],
      "metadata": {
        "id": "0rT3G__rQF5U"
      }
    },
    {
      "cell_type": "markdown",
      "source": [
        "**SQL** **Commands**"
      ],
      "metadata": {
        "id": "63IYWfLXSF-s"
      }
    },
    {
      "cell_type": "code",
      "source": [
        "from google.colab import files\n",
        "uploaded = files.upload()"
      ],
      "metadata": {
        "colab": {
          "base_uri": "https://localhost:8080/",
          "height": 73
        },
        "id": "PtiDGighTON_",
        "outputId": "87e41621-e474-4bc0-d921-956e03efda8d"
      },
      "execution_count": null,
      "outputs": [
        {
          "output_type": "display_data",
          "data": {
            "text/plain": [
              "<IPython.core.display.HTML object>"
            ],
            "text/html": [
              "\n",
              "     <input type=\"file\" id=\"files-b7b13b50-1c43-4b76-a7e4-3b5a80ce0174\" name=\"files[]\" multiple disabled\n",
              "        style=\"border:none\" />\n",
              "     <output id=\"result-b7b13b50-1c43-4b76-a7e4-3b5a80ce0174\">\n",
              "      Upload widget is only available when the cell has been executed in the\n",
              "      current browser session. Please rerun this cell to enable.\n",
              "      </output>\n",
              "      <script>// Copyright 2017 Google LLC\n",
              "//\n",
              "// Licensed under the Apache License, Version 2.0 (the \"License\");\n",
              "// you may not use this file except in compliance with the License.\n",
              "// You may obtain a copy of the License at\n",
              "//\n",
              "//      http://www.apache.org/licenses/LICENSE-2.0\n",
              "//\n",
              "// Unless required by applicable law or agreed to in writing, software\n",
              "// distributed under the License is distributed on an \"AS IS\" BASIS,\n",
              "// WITHOUT WARRANTIES OR CONDITIONS OF ANY KIND, either express or implied.\n",
              "// See the License for the specific language governing permissions and\n",
              "// limitations under the License.\n",
              "\n",
              "/**\n",
              " * @fileoverview Helpers for google.colab Python module.\n",
              " */\n",
              "(function(scope) {\n",
              "function span(text, styleAttributes = {}) {\n",
              "  const element = document.createElement('span');\n",
              "  element.textContent = text;\n",
              "  for (const key of Object.keys(styleAttributes)) {\n",
              "    element.style[key] = styleAttributes[key];\n",
              "  }\n",
              "  return element;\n",
              "}\n",
              "\n",
              "// Max number of bytes which will be uploaded at a time.\n",
              "const MAX_PAYLOAD_SIZE = 100 * 1024;\n",
              "\n",
              "function _uploadFiles(inputId, outputId) {\n",
              "  const steps = uploadFilesStep(inputId, outputId);\n",
              "  const outputElement = document.getElementById(outputId);\n",
              "  // Cache steps on the outputElement to make it available for the next call\n",
              "  // to uploadFilesContinue from Python.\n",
              "  outputElement.steps = steps;\n",
              "\n",
              "  return _uploadFilesContinue(outputId);\n",
              "}\n",
              "\n",
              "// This is roughly an async generator (not supported in the browser yet),\n",
              "// where there are multiple asynchronous steps and the Python side is going\n",
              "// to poll for completion of each step.\n",
              "// This uses a Promise to block the python side on completion of each step,\n",
              "// then passes the result of the previous step as the input to the next step.\n",
              "function _uploadFilesContinue(outputId) {\n",
              "  const outputElement = document.getElementById(outputId);\n",
              "  const steps = outputElement.steps;\n",
              "\n",
              "  const next = steps.next(outputElement.lastPromiseValue);\n",
              "  return Promise.resolve(next.value.promise).then((value) => {\n",
              "    // Cache the last promise value to make it available to the next\n",
              "    // step of the generator.\n",
              "    outputElement.lastPromiseValue = value;\n",
              "    return next.value.response;\n",
              "  });\n",
              "}\n",
              "\n",
              "/**\n",
              " * Generator function which is called between each async step of the upload\n",
              " * process.\n",
              " * @param {string} inputId Element ID of the input file picker element.\n",
              " * @param {string} outputId Element ID of the output display.\n",
              " * @return {!Iterable<!Object>} Iterable of next steps.\n",
              " */\n",
              "function* uploadFilesStep(inputId, outputId) {\n",
              "  const inputElement = document.getElementById(inputId);\n",
              "  inputElement.disabled = false;\n",
              "\n",
              "  const outputElement = document.getElementById(outputId);\n",
              "  outputElement.innerHTML = '';\n",
              "\n",
              "  const pickedPromise = new Promise((resolve) => {\n",
              "    inputElement.addEventListener('change', (e) => {\n",
              "      resolve(e.target.files);\n",
              "    });\n",
              "  });\n",
              "\n",
              "  const cancel = document.createElement('button');\n",
              "  inputElement.parentElement.appendChild(cancel);\n",
              "  cancel.textContent = 'Cancel upload';\n",
              "  const cancelPromise = new Promise((resolve) => {\n",
              "    cancel.onclick = () => {\n",
              "      resolve(null);\n",
              "    };\n",
              "  });\n",
              "\n",
              "  // Wait for the user to pick the files.\n",
              "  const files = yield {\n",
              "    promise: Promise.race([pickedPromise, cancelPromise]),\n",
              "    response: {\n",
              "      action: 'starting',\n",
              "    }\n",
              "  };\n",
              "\n",
              "  cancel.remove();\n",
              "\n",
              "  // Disable the input element since further picks are not allowed.\n",
              "  inputElement.disabled = true;\n",
              "\n",
              "  if (!files) {\n",
              "    return {\n",
              "      response: {\n",
              "        action: 'complete',\n",
              "      }\n",
              "    };\n",
              "  }\n",
              "\n",
              "  for (const file of files) {\n",
              "    const li = document.createElement('li');\n",
              "    li.append(span(file.name, {fontWeight: 'bold'}));\n",
              "    li.append(span(\n",
              "        `(${file.type || 'n/a'}) - ${file.size} bytes, ` +\n",
              "        `last modified: ${\n",
              "            file.lastModifiedDate ? file.lastModifiedDate.toLocaleDateString() :\n",
              "                                    'n/a'} - `));\n",
              "    const percent = span('0% done');\n",
              "    li.appendChild(percent);\n",
              "\n",
              "    outputElement.appendChild(li);\n",
              "\n",
              "    const fileDataPromise = new Promise((resolve) => {\n",
              "      const reader = new FileReader();\n",
              "      reader.onload = (e) => {\n",
              "        resolve(e.target.result);\n",
              "      };\n",
              "      reader.readAsArrayBuffer(file);\n",
              "    });\n",
              "    // Wait for the data to be ready.\n",
              "    let fileData = yield {\n",
              "      promise: fileDataPromise,\n",
              "      response: {\n",
              "        action: 'continue',\n",
              "      }\n",
              "    };\n",
              "\n",
              "    // Use a chunked sending to avoid message size limits. See b/62115660.\n",
              "    let position = 0;\n",
              "    do {\n",
              "      const length = Math.min(fileData.byteLength - position, MAX_PAYLOAD_SIZE);\n",
              "      const chunk = new Uint8Array(fileData, position, length);\n",
              "      position += length;\n",
              "\n",
              "      const base64 = btoa(String.fromCharCode.apply(null, chunk));\n",
              "      yield {\n",
              "        response: {\n",
              "          action: 'append',\n",
              "          file: file.name,\n",
              "          data: base64,\n",
              "        },\n",
              "      };\n",
              "\n",
              "      let percentDone = fileData.byteLength === 0 ?\n",
              "          100 :\n",
              "          Math.round((position / fileData.byteLength) * 100);\n",
              "      percent.textContent = `${percentDone}% done`;\n",
              "\n",
              "    } while (position < fileData.byteLength);\n",
              "  }\n",
              "\n",
              "  // All done.\n",
              "  yield {\n",
              "    response: {\n",
              "      action: 'complete',\n",
              "    }\n",
              "  };\n",
              "}\n",
              "\n",
              "scope.google = scope.google || {};\n",
              "scope.google.colab = scope.google.colab || {};\n",
              "scope.google.colab._files = {\n",
              "  _uploadFiles,\n",
              "  _uploadFilesContinue,\n",
              "};\n",
              "})(self);\n",
              "</script> "
            ]
          },
          "metadata": {}
        },
        {
          "output_type": "stream",
          "name": "stdout",
          "text": [
            "Saving Mavenmovies.sql to Mavenmovies.sql\n"
          ]
        }
      ]
    },
    {
      "cell_type": "markdown",
      "source": [
        "#1.Identify the primary keys and foreign keys in maven movies db. Discuss the differences.\n",
        "Primary Keys (PK)\n",
        "A Primary Key uniquely identifies each record in a table. It must be:\n",
        "Unique\n",
        "Not NULL\n",
        "Some examples from Maven Movies:\n",
        "Table\tPrimary Key Column(s)\n",
        "actor\tactor_id\n",
        "address\taddress_id\n",
        "category\tcategory_id\n",
        "city\tcity_id\n",
        "country\tcountry_id\n",
        "customer\tcustomer_id\n",
        "film\tfilm_id\n",
        "inventory\tinventory_id\n",
        "language\tlanguage_id\n",
        "payment\tpayment_id\n",
        "rental\trental_id\n",
        "staff\tstaff_id\n",
        "store\tstore_id\n",
        "film_actor\t(actor_id, film_id) (composite)\n",
        "film_category\t(film_id, category_id) (composite)\n",
        "\n",
        "Foreign Keys (FK)\n",
        "A Foreign Key is a column (or set of columns) that links to the primary key in another table. It enforces referential integrity between related tables.\n",
        "Some foreign key examples:\n",
        "Table--ForeignKeyColumn--References\n",
        "address\tcity_id\tcity(city_id)\n",
        "city\tcountry_id\tcountry(country_id)\n",
        "customer\taddress_id\taddress(address_id)\n",
        "customer\tstore_id\tstore(store_id)\n",
        "film\tlanguage_id\tlanguage(language_id)\n",
        "film_actor\tactor_id\tactor(actor_id)\n",
        "film_actor\tfilm_id\tfilm(film_id)\n",
        "film_category\tfilm_id\tfilm(film_id)\n",
        "film_category\tcategory_id\tcategory(category_id)\n",
        "inventory\tfilm_id\tfilm(film_id)\n",
        "inventory\tstore_id\tstore(store_id)\n",
        "rental\tinventory_id\tinventory(inventory_id)\n",
        "rental\tcustomer_id\tcustomer(customer_id)\n",
        "rental\tstaff_id\tstaff(staff_id)\n",
        "payment\tcustomer_id\tcustomer(customer_id)\n",
        "payment\tstaff_id\tstaff(staff_id)\n",
        "payment\trental_id\trental(rental_id)\n",
        "store\tmanager_staff_id\tstaff(staff_id)\n",
        "store\taddress_id\taddress(address_id)"
      ],
      "metadata": {
        "id": "2iKxcxsjTbIu"
      }
    },
    {
      "cell_type": "markdown",
      "source": [
        "#2.List all details of actors.\n",
        "SELECT * FROM actor;\n"
      ],
      "metadata": {
        "id": "WFRj-okNUpE-"
      }
    },
    {
      "cell_type": "markdown",
      "source": [
        "#3.List all customer information from DB.\n",
        "SELECT * FROM customer;\n"
      ],
      "metadata": {
        "id": "lXgQh4kdWNQx"
      }
    },
    {
      "cell_type": "markdown",
      "source": [
        "#4.List different countries.\n",
        "SELECT DISTINCT country\n",
        "FROM country;\n"
      ],
      "metadata": {
        "id": "rsLwziAVcrwn"
      }
    },
    {
      "cell_type": "markdown",
      "source": [
        "#5.Display all active customers.\n",
        "SELECT *\n",
        "FROM customer\n",
        "WHERE active = TRUE;\n"
      ],
      "metadata": {
        "id": "SULlJYQvc_7H"
      }
    },
    {
      "cell_type": "markdown",
      "source": [
        "#6.List of all rental IDs for customer with ID 1.\n",
        "SELECT rental_id\n",
        "FROM rental\n",
        "WHERE customer_id = 1;\n"
      ],
      "metadata": {
        "id": "0f5t9MLxde3s"
      }
    },
    {
      "cell_type": "markdown",
      "source": [
        "#7.Display all the films whose rental duration is greater than 5 .\n",
        "SELECT *\n",
        "FROM film\n",
        "WHERE rental_duration > 5;\n"
      ],
      "metadata": {
        "id": "VnhnJL35dwg9"
      }
    },
    {
      "cell_type": "markdown",
      "source": [
        "#8.List the total number of films whose replacement cost is greater than $15 and less than $20.\n",
        "SELECT COUNT(*) AS total_films\n",
        "FROM film\n",
        "WHERE replacement_cost > 15 AND replacement_cost < 20;\n",
        "\n"
      ],
      "metadata": {
        "id": "10Cm_pT1d-2C"
      }
    },
    {
      "cell_type": "markdown",
      "source": [
        "#9.Display the count of unique first names of actors.\n",
        "SELECT COUNT(DISTINCT first_name) AS unique_first_names FROM actor;\n",
        "\n"
      ],
      "metadata": {
        "id": "QJ3GvZponUtm"
      }
    },
    {
      "cell_type": "markdown",
      "source": [
        "#10.Display the first 10 records from the customer table.\n",
        "SELECT *\n",
        "FROM customer\n",
        "LIMIT 10;\n"
      ],
      "metadata": {
        "id": "QCsCKKwen-NN"
      }
    },
    {
      "cell_type": "markdown",
      "source": [
        "#11. Display the first 3 records from the customer table whose first name starts with ‘b’.\n",
        "SELECT *\n",
        "FROM customer\n",
        "WHERE first_name LIKE 'B%'\n",
        "LIMIT 3;\n"
      ],
      "metadata": {
        "id": "_wJS43FooPd2"
      }
    },
    {
      "cell_type": "markdown",
      "source": [
        "#12.Display the names of the first 5 movies which are rated as ‘G’.\n",
        "SELECT title\n",
        "FROM film\n",
        "WHERE rating = 'G'\n",
        "LIMIT 5;\n",
        "\n",
        "\n"
      ],
      "metadata": {
        "id": "rj9gTnYpoVsB"
      }
    },
    {
      "cell_type": "markdown",
      "source": [
        "#13.Find all customers whose first name starts with \"a\".\n",
        "SELECT *\n",
        "FROM customer\n",
        "WHERE first_name LIKE 'A%';\n"
      ],
      "metadata": {
        "id": "A3YrfAfgo36V"
      }
    },
    {
      "cell_type": "markdown",
      "source": [
        "#14.Find all customers whose first name ends with \"a\".\n",
        "SELECT *\n",
        "FROM customer\n",
        "WHERE first_name LIKE '%a';\n"
      ],
      "metadata": {
        "id": "uC5uDfMOpLwQ"
      }
    },
    {
      "cell_type": "markdown",
      "source": [
        "#15. Display the list of first 4 cities which start and end with ‘a’ .\n",
        "SELECT city\n",
        "FROM city\n",
        "WHERE city LIKE 'A%a'\n",
        "LIMIT 4;\n"
      ],
      "metadata": {
        "id": "S0-rFMQvphn9"
      }
    },
    {
      "cell_type": "markdown",
      "source": [
        "#16. Find all customers whose first name have \"NI\" in any position.\n",
        "SELECT *\n",
        "FROM customer\n",
        "WHERE first_name LIKE '%NI%';\n"
      ],
      "metadata": {
        "id": "2eR7E9Wzpsl0"
      }
    },
    {
      "cell_type": "markdown",
      "source": [
        "#17.Find all customers whose first name have \"r\" in the second position .\n",
        "SELECT *\n",
        "FROM customer\n",
        "WHERE first_name LIKE '_r%';\n"
      ],
      "metadata": {
        "id": "DoKAy-Map763"
      }
    },
    {
      "cell_type": "markdown",
      "source": [
        "#18.Find all customers whose first name starts with \"a\" and are at least 5 characters in length.\n",
        "SELECT *\n",
        "FROM customer\n",
        "WHERE first_name LIKE 'A%' AND LENGTH(first_name) >= 5;\n"
      ],
      "metadata": {
        "id": "rz60L5z0qEhq"
      }
    },
    {
      "cell_type": "markdown",
      "source": [
        "#19.Find all customers whose first name starts with \"a\" and ends with \"o\".\n",
        "SELECT *\n",
        "FROM customer\n",
        "WHERE first_name LIKE 'A%o';\n"
      ],
      "metadata": {
        "id": "aHT6lpD2qPOz"
      }
    },
    {
      "cell_type": "markdown",
      "source": [
        "#20. Get the films with pg and pg-13 rating using IN operator.\n",
        "SELECT *\n",
        "FROM film\n",
        "WHERE rating IN ('PG', 'PG-13');"
      ],
      "metadata": {
        "id": "2OQcVh2DqV3n"
      }
    },
    {
      "cell_type": "markdown",
      "source": [
        "#21. Get the films with length between 50 to 100 using between operator.\n",
        "SELECT *\n",
        "FROM film\n",
        "WHERE length BETWEEN 50 AND 100;\n"
      ],
      "metadata": {
        "id": "B7rMC-fzqdWO"
      }
    },
    {
      "cell_type": "markdown",
      "source": [
        "#22.Get the top 50 actors using limit operator.\n",
        "SELECT *\n",
        "FROM actor\n",
        "LIMIT 50;\n",
        "\n"
      ],
      "metadata": {
        "id": "Roc0o3Meqnnh"
      }
    },
    {
      "cell_type": "markdown",
      "source": [
        "#23.Get the distinct film ids from inventory table.\n",
        "SELECT DISTINCT film_id\n",
        "FROM inventory;\n"
      ],
      "metadata": {
        "id": "TKIFhw5Yqv46"
      }
    },
    {
      "cell_type": "markdown",
      "source": [
        "**FUNCTIONS**"
      ],
      "metadata": {
        "id": "gMYb1sx4q-0e"
      }
    },
    {
      "cell_type": "markdown",
      "source": [
        "#1.Retrieve the total number of rentals made in the Sakila database.\n",
        "Hint: Use the COUNT() function.\n",
        "SELECT COUNT(*) AS total_rentals\n",
        "FROM rental;\n",
        "\n",
        "\n",
        "#2.Find the average rental duration (in days) of movies rented from the Sakila database.\n",
        "Hint: Utilize the AVG() function.\n",
        "SELECT AVG(rental_duration) AS avg_rental_duration\n",
        "FROM film;\n",
        "\n",
        "\n",
        "#3.Display the first name and last name of customers in uppercase.\n",
        "Hint: Use the UPPER () function.\n",
        "SELECT\n",
        "    UPPER(first_name) AS first_name_upper,\n",
        "    UPPER(last_name) AS last_name_upper\n",
        "FROM customer;\n",
        "\n",
        "\n",
        "#4.Extract the month from the rental date and display it alongside the rental ID.\n",
        "Hint: Employ the MONTH() function.\n",
        "SELECT\n",
        "    rental_id,\n",
        "    MONTH(rental_date) AS rental_month\n",
        "FROM rental;\n",
        "\n",
        "\n",
        "\n"
      ],
      "metadata": {
        "id": "q-wJvi0VrCnb"
      }
    },
    {
      "cell_type": "markdown",
      "source": [
        "**GROUP** **BY**\n",
        "#5.Retrieve the count of rentals for each customer (display customer ID and the count of rentals).\n",
        "Hint: Use COUNT () in conjunction with GROUP BY.\n",
        "SELECT\n",
        "    customer_id,\n",
        "    COUNT(*) AS rental_count\n",
        "FROM rental\n",
        "GROUP BY customer_id;\n",
        "\n",
        "\n",
        "#6.Find the total revenue generated by each store.\n",
        "Hint: Combine SUM() and GROUP BY.\n",
        "SELECT\n",
        "    s.store_id,\n",
        "    SUM(p.amount) AS total_revenue\n",
        "FROM payment p\n",
        "JOIN rental r ON p.rental_id = r.rental_id\n",
        "JOIN inventory i ON r.inventory_id = i.inventory_id\n",
        "JOIN store s ON i.store_id = s.store_id\n",
        "GROUP BY s.store_id;\n",
        "\n",
        "\n",
        "#7.Determine the total number of rentals for each category of movies.\n",
        "Hint: JOIN film_category, film, and rental tables, then use cOUNT () and GROUPBY\n",
        "SELECT\n",
        "    c.name AS category,\n",
        "    COUNT(r.rental_id) AS total_rentals\n",
        "FROM category c\n",
        "JOIN film_category fc ON c.category_id = fc.category_id\n",
        "JOIN film f ON fc.film_id = f.film_id\n",
        "JOIN inventory i ON f.film_id = i.film_id\n",
        "JOIN rental r ON i.inventory_id = r.inventory_id\n",
        "GROUP BY c.name\n",
        "ORDER BY total_rentals DESC;\n",
        "\n",
        "\n",
        "#8.Find the average rental rate of movies in each language.\n",
        "Hint: JOIN film and language tables, then use AVG () and GROUP BY.\n",
        "SELECT\n",
        "    l.name AS language,\n",
        "    AVG(f.rental_rate) AS avg_rental_rate\n",
        "FROM film f\n",
        "JOIN language l ON f.language_id = l.language_id\n",
        "GROUP BY l.name\n",
        "ORDER BY avg_rental_rate DESC;\n"
      ],
      "metadata": {
        "id": "njszU8z8r9k5"
      }
    },
    {
      "cell_type": "markdown",
      "source": [
        "**JOINS**\n",
        "#9.Display the title of the movie, customer s first name, and last name who rented it.\n",
        "Hint: Use JOIN between the film, inventory, rental, and customer tables.\n",
        "SELECT\n",
        "    f.title AS movie_title,\n",
        "    c.first_name AS customer_first_name,\n",
        "    c.last_name AS customer_last_name\n",
        "FROM rental r\n",
        "JOIN inventory i ON r.inventory_id = i.inventory_id\n",
        "JOIN film f ON i.film_id = f.film_id\n",
        "JOIN customer c ON r.customer_id = c.customer_id;\n",
        "\n",
        "\n",
        "#10.Retrieve the names of all actors who have appeared in the film \"Gone with the Wind.\"\n",
        "Hint: Use JOIN between the film actor, film, and actor tables.\n",
        "SELECT\n",
        "    a.first_name,\n",
        "    a.last_name\n",
        "FROM film f\n",
        "JOIN film_actor fa ON f.film_id = fa.film_id\n",
        "JOIN actor a ON fa.actor_id = a.actor_id\n",
        "WHERE f.title = 'Gone with the Wind';\n",
        "\n",
        "\n",
        "#11.Retrieve the customer names along with the total amount they've spent on rentals.\n",
        "Hint: JOIN customer, payment, and rental tables, then use SUM() and GROUP BY.\n",
        "SELECT\n",
        "    c.first_name,\n",
        "    c.last_name,\n",
        "    SUM(p.amount) AS total_amount_spent\n",
        "FROM customer c\n",
        "JOIN payment p ON c.customer_id = p.customer_id\n",
        "GROUP BY c.customer_id, c.first_name, c.last_name\n",
        "ORDER BY total_amount_spent DESC;\n",
        "\n",
        "\n",
        "#12.List the titles of movies rented by each customer in a particular city (e.g., 'London').\n",
        "Hint: JOIN customer, address, city, rental, inventory, and film tables, then use GROUP BY.\n",
        "SELECT\n",
        "    c.first_name,\n",
        "    c.last_name,\n",
        "    ci.city,\n",
        "    f.title AS rented_movie\n",
        "FROM customer c\n",
        "JOIN address a ON c.address_id = a.address_id\n",
        "JOIN city ci ON a.city_id = ci.city_id\n",
        "JOIN rental r ON c.customer_id = r.customer_id\n",
        "JOIN inventory i ON r.inventory_id = i.inventory_id\n",
        "JOIN film f ON i.film_id = f.film_id\n",
        "WHERE ci.city = 'London'\n",
        "ORDER BY c.last_name, f.title;\n"
      ],
      "metadata": {
        "id": "1TxSilh8tFto"
      }
    },
    {
      "cell_type": "markdown",
      "source": [
        "**Advanced Joins and GROUP BY:**\n",
        "#13.Display the top 5 rented movies along with the number of times they've been rented.\n",
        "Hint: JOIN film, inventory, and rental tables, then use COUNT () and GROUP BY, and limit the results.\n",
        "SELECT\n",
        "    f.title AS movie_title,\n",
        "    COUNT(r.rental_id) AS times_rented\n",
        "FROM film f\n",
        "JOIN inventory i ON f.film_id = i.film_id\n",
        "JOIN rental r ON i.inventory_id = r.inventory_id\n",
        "GROUP BY f.film_id, f.title\n",
        "ORDER BY times_rented DESC\n",
        "LIMIT 5;\n",
        "\n",
        "\n",
        "#14.Determine the customers who have rented movies from both stores (store ID 1 and store ID 2).\n",
        "Hint: Use JOINS with rental, inventory, and customer tables and consider COUNT() and GROUP BY.\n",
        "SELECT\n",
        "    r.customer_id,\n",
        "    c.first_name,\n",
        "    c.last_name,\n",
        "    COUNT(DISTINCT i.store_id) AS store_count\n",
        "FROM rental r\n",
        "JOIN inventory i ON r.inventory_id = i.inventory_id\n",
        "JOIN customer c ON r.customer_id = c.customer_id\n",
        "GROUP BY r.customer_id, c.first_name, c.last_name\n",
        "HAVING COUNT(DISTINCT i.store_id) = 2;\n"
      ],
      "metadata": {
        "id": "l44vsFxft1JR"
      }
    },
    {
      "cell_type": "markdown",
      "source": [
        "**Windows Function:**\n",
        "#1.Rank the customers based on the total amount they've spent on rentals.\n",
        "SELECT\n",
        "    c.customer_id,\n",
        "    c.first_name,\n",
        "    c.last_name,\n",
        "    SUM(p.amount) AS total_spent,\n",
        "    RANK() OVER (ORDER BY SUM(p.amount) DESC) AS spending_rank\n",
        "FROM customer c\n",
        "JOIN payment p ON c.customer_id = p.customer_id\n",
        "GROUP BY c.customer_id, c.first_name, c.last_name\n",
        "ORDER BY total_spent DESC;\n",
        "\n",
        "\n",
        "#2. Calculate the cumulative revenue generated by each film over time.\n",
        "SELECT\n",
        "    f.title AS film_title,\n",
        "    p.payment_date,\n",
        "    SUM(p.amount) AS daily_revenue,\n",
        "    SUM(p.amount) OVER (\n",
        "        PARTITION BY f.film_id\n",
        "        ORDER BY p.payment_date\n",
        "        ROWS BETWEEN UNBOUNDED PRECEDING AND CURRENT ROW\n",
        "    ) AS cumulative_revenue\n",
        "FROM payment p\n",
        "JOIN rental r ON p.rental_id = r.rental_id\n",
        "JOIN inventory i ON r.inventory_id = i.inventory_id\n",
        "JOIN film f ON i.film_id = f.film_id\n",
        "ORDER BY f.title, p.payment_date;\n",
        "\n",
        "\n",
        "#3.Determine the average rental duration for each film, considering films with similar lengths.\n",
        "SELECT\n",
        "    length AS film_length,\n",
        "    AVG(rental_duration) AS avg_rental_duration\n",
        "FROM film\n",
        "GROUP BY length\n",
        "ORDER BY film_length;\n",
        "\n",
        "\n",
        "#4.Identify the top 3 films in each category based on their rental counts.\n",
        "SELECT\n",
        "    c.name AS category_name,\n",
        "    f.title AS film_title,\n",
        "    COUNT(r.rental_id) AS rental_count,\n",
        "    RANK() OVER (\n",
        "        PARTITION BY c.category_id\n",
        "        ORDER BY COUNT(r.rental_id) DESC\n",
        "    ) AS rank_within_category\n",
        "FROM category c\n",
        "JOIN film_category fc ON c.category_id = fc.category_id\n",
        "JOIN film f ON fc.film_id = f.film_id\n",
        "JOIN inventory i ON f.film_id = i.film_id\n",
        "JOIN rental r ON i.inventory_id = r.inventory_id\n",
        "GROUP BY c.category_id, c.name, f.film_id, f.title\n",
        "QUALIFY RANK() OVER (\n",
        "    PARTITION BY c.category_id\n",
        "    ORDER BY COUNT(r.rental_id) DESC\n",
        ") <= 3\n",
        "ORDER BY c.name, rank_within_category;\n",
        "\n",
        "\n",
        "#5.Calculate the difference in rental counts between each customer's total rentals and the average rentals across all customers.\n",
        "WITH customer_rental_counts AS (\n",
        "    SELECT\n",
        "        customer_id,\n",
        "        COUNT(*) AS total_rentals\n",
        "    FROM rental\n",
        "    GROUP BY customer_id\n",
        "),\n",
        "average_rentals AS (\n",
        "    SELECT AVG(total_rentals) AS avg_rentals\n",
        "    FROM customer_rental_counts\n",
        ")\n",
        "SELECT\n",
        "    crc.customer_id,\n",
        "    crc.total_rentals,\n",
        "    ar.avg_rentals,\n",
        "    crc.total_rentals - ar.avg_rentals AS rental_difference\n",
        "FROM customer_rental_counts crc\n",
        "CROSS JOIN average_rentals ar\n",
        "ORDER BY rental_difference DESC;\n",
        "\n",
        "\n",
        "#6.Find the monthly revenue trend for the entire rental store over time.\n",
        "SELECT\n",
        "    YEAR(payment_date) AS year,\n",
        "    MONTH(payment_date) AS month,\n",
        "    SUM(amount) AS monthly_revenue\n",
        "FROM payment\n",
        "GROUP BY YEAR(payment_date), MONTH(payment_date)\n",
        "ORDER BY year, month;\n",
        "\n",
        "\n",
        "#7. Identify the customers whose total spending on rentals falls within the top 20% of all customers.\n",
        "WITH customer_spending AS (\n",
        "    SELECT\n",
        "        customer_id,\n",
        "        SUM(amount) AS total_spent\n",
        "    FROM payment\n",
        "    GROUP BY customer_id\n",
        "),\n",
        "ranked_customers AS (\n",
        "    SELECT\n",
        "        customer_id,\n",
        "        total_spent,\n",
        "        PERCENT_RANK() OVER (ORDER BY total_spent DESC) AS spending_percentile\n",
        "    FROM customer_spending\n",
        ")\n",
        "SELECT *\n",
        "FROM ranked_customers\n",
        "WHERE spending_percentile <= 0.20\n",
        "ORDER BY total_spent DESC;\n",
        "\n",
        "\n",
        "#8.Calculate the running total of rentals per category, ordered by rental count.\n",
        "WITH category_rental_counts AS (\n",
        "    SELECT\n",
        "        c.name AS category_name,\n",
        "        COUNT(r.rental_id) AS rental_count\n",
        "    FROM category c\n",
        "    JOIN film_category fc ON c.category_id = fc.category_id\n",
        "    JOIN film f ON fc.film_id = f.film_id\n",
        "    JOIN inventory i ON f.film_id = i.film_id\n",
        "    JOIN rental r ON i.inventory_id = r.inventory_id\n",
        "    GROUP BY c.category_id, c.name\n",
        ")\n",
        "SELECT\n",
        "    category_name,\n",
        "    rental_count,\n",
        "    SUM(rental_count) OVER (\n",
        "        ORDER BY rental_count DESC\n",
        "    ) AS running_total_rentals\n",
        "FROM category_rental_counts\n",
        "ORDER BY rental_count DESC;\n",
        "\n",
        "\n",
        "#9.Find the films that have been rented less than the average rental count for their respective categories.\n",
        "-- Step 1: Rental count per film and category\n",
        "WITH film_rentals AS (\n",
        "    SELECT\n",
        "        f.film_id,\n",
        "        f.title,\n",
        "        c.category_id,\n",
        "        c.name AS category_name,\n",
        "        COUNT(r.rental_id) AS film_rental_count\n",
        "    FROM film f\n",
        "    JOIN film_category fc ON f.film_id = fc.film_id\n",
        "    JOIN category c ON fc.category_id = c.category_id\n",
        "    JOIN inventory i ON f.film_id = i.film_id\n",
        "    JOIN rental r ON i.inventory_id = r.inventory_id\n",
        "    GROUP BY f.film_id, f.title, c.category_id, c.name\n",
        "),\n",
        "\n",
        "-- Step 2: Average rental count per category\n",
        "category_avg AS (\n",
        "    SELECT\n",
        "        category_id,\n",
        "        AVG(film_rental_count) AS avg_rental_count\n",
        "    FROM film_rentals\n",
        "    GROUP BY category_id\n",
        ")\n",
        "\n",
        "-- Step 3: Compare film rentals to category average\n",
        "SELECT\n",
        "    fr.title,\n",
        "    fr.category_name,\n",
        "    fr.film_rental_count,\n",
        "    ca.avg_rental_count\n",
        "FROM film_rentals fr\n",
        "JOIN category_avg ca ON fr.category_id = ca.category_id\n",
        "WHERE fr.film_rental_count < ca.avg_rental_count\n",
        "ORDER BY fr.category_name, fr.film_rental_count;\n",
        "\n",
        "\n",
        "#10. Identify the top 5 months with the highest revenue and display the revenue generated in each month.\n",
        "SELECT\n",
        "    TO_CHAR(payment_date, 'YYYY-MM') AS month,\n",
        "    SUM(amount) AS monthly_revenue\n",
        "FROM payment\n",
        "GROUP BY TO_CHAR(payment_date, 'YYYY-MM')\n",
        "ORDER BY monthly_revenue DESC\n",
        "LIMIT 5;\n",
        "\n"
      ],
      "metadata": {
        "id": "pi-LxPqSuZLg"
      }
    },
    {
      "cell_type": "markdown",
      "source": [
        "**Normalisation & CTE**\n",
        "#1. First Normal Form (1NF):\n",
        "a. Identify a table in the Sakila database that violates 1NF. Explain how you would normalize it .\n",
        "A relation is in First Normal Form (1NF) if:\n",
        "All attributes (columns) contain only atomic (indivisible) values.\n",
        "Each field contains only one value – no repeating groups or arrays in a single column.\n",
        "the actor_award table violates First Normal Form (1NF) because:\n",
        "The values are not atomic\n",
        "It represents a multi-valued attribute\n",
        "How to Normalize the Table to Achieve 1NF:\n",
        "Step 1: Create a new award table\n",
        "CREATE TABLE award (\n",
        "  award_id SMALLINT UNSIGNED NOT NULL AUTO_INCREMENT,\n",
        "  award_name VARCHAR(45) NOT NULL,\n",
        "  PRIMARY KEY (award_id)\n",
        ");\n",
        "Step 2: Create a new many-to-many relationship table: actor_award_mapping\n",
        "CREATE TABLE actor_award_mapping (\n",
        "  actor_id SMALLINT UNSIGNED NOT NULL,\n",
        "  award_id SMALLINT UNSIGNED NOT NULL,\n",
        "  PRIMARY KEY (actor_id, award_id),\n",
        "  FOREIGN KEY (actor_id) REFERENCES actor(actor_id),\n",
        "  FOREIGN KEY (award_id) REFERENCES award(award_id)\n",
        ");\n",
        "Step 3: Remove the non-atomic awards column from actor_award, or eliminate the table entirely if redundant."
      ],
      "metadata": {
        "id": "PelrzrHzxH0e"
      }
    },
    {
      "cell_type": "markdown",
      "source": [
        "#2.Second Normal Form (2NF):\n",
        "a. Choose a table in Sakila and describe how you would determine whether it is in 2NF. If it violates 2NF, explain the steps to normalize it.\n",
        "A table is in 2NF if:\n",
        "It is already in First Normal Form (1NF).\n",
        "All non-prime attributes are fully functionally dependent on the whole primary key, not just part of it.\n",
        "This means no partial dependency: no non-key column should depend on part of a composite primary key.\n",
        "film_actor violates 2NF.\n",
        "CREATE TABLE film_actor (\n",
        "  actor_id SMALLINT UNSIGNED NOT NULL,\n",
        "  film_id SMALLINT UNSIGNED NOT NULL,\n",
        "  last_update TIMESTAMP NOT NULL DEFAULT CURRENT_TIMESTAMP ON UPDATE CURRENT_TIMESTAMP,\n",
        "  PRIMARY KEY (actor_id, film_id)\n",
        ");\n",
        "Composite primary key: (actor_id, film_id)\n",
        "Non-prime attribute: last_update\n",
        "Violation:\n",
        "last_update is not dependent on the full composite key (actor_id, film_id). It's only about when the row was last modified — not dependent on both IDs.\n",
        "Hence, film_actor violates 2NF due to partial dependency.\n",
        "How to Normalize it to 2NF:\n",
        "Step 1: Split the table\n",
        "Create a relationship table with only the composite key:\n",
        "CREATE TABLE film_actor_mapping (\n",
        "  actor_id SMALLINT UNSIGNED NOT NULL,\n",
        "  film_id SMALLINT UNSIGNED NOT NULL,\n",
        "  PRIMARY KEY (actor_id, film_id),\n",
        "  FOREIGN KEY (actor_id) REFERENCES actor(actor_id),\n",
        "  FOREIGN KEY (film_id) REFERENCES film(film_id)\n",
        ");\n",
        "Step 2: Move last_update to a new table if it's actor- or film-specific:\n",
        "If last_update refers to when an actor last worked on a film, you might retain it with the composite key only if it depends on both.\n",
        "Otherwise, move it to a relevant table:\n",
        "If it's just about the actor: move to actor table.\n",
        "If it's about the film: move to film.\n",
        "\n",
        "\n"
      ],
      "metadata": {
        "id": "COHjWMe4fWNS"
      }
    },
    {
      "cell_type": "markdown",
      "source": [
        "#3.Third Normal Form (3NF):\n",
        "a.Identify a table in Sakila that violates 3NF. Describe the transitive dependencies present and outline the steps to normalize the table to 3NF.\n",
        "A table is in 3NF if:\n",
        "It is in Second Normal Form (2NF).\n",
        "It has no transitive dependencies, i.e., non-prime attributes must depend only on the primary key, and not on other non-prime attributes.\n",
        "Table That Violates 3NF: customer_list (a View)\n",
        "Even though customer_list is a view, not a base table, it combines data in a way that introduces transitive dependencies, making it a useful example.\n",
        "Here’s the structure of the view:\n",
        "CREATE VIEW customer_list AS\n",
        "SELECT\n",
        "  cu.customer_id AS ID,\n",
        "  CONCAT(cu.first_name, ' ', cu.last_name) AS name,\n",
        "  a.address AS address,\n",
        "  a.postal_code AS `zip code`,\n",
        "  a.phone AS phone,\n",
        "  city.city AS city,\n",
        "  country.country AS country,\n",
        "  IF(cu.active, 'active','') AS notes,\n",
        "  cu.store_id AS SID\n",
        "FROM customer cu\n",
        "JOIN address a ON cu.address_id = a.address_id\n",
        "JOIN city ON a.city_id = city.city_id\n",
        "JOIN country ON city.country_id = country.country_id;\n",
        "How to Normalize the Table to 3NF:\n",
        "To break these transitive dependencies:\n",
        "Step 1: Keep customer data in one table:\n",
        "CREATE TABLE customer_clean (\n",
        "  customer_id SMALLINT PRIMARY KEY,\n",
        "  store_id TINYINT,\n",
        "  first_name VARCHAR(45),\n",
        "  last_name VARCHAR(45),\n",
        "  email VARCHAR(50),\n",
        "  address_id SMALLINT,\n",
        "  active BOOLEAN,\n",
        "  create_date DATETIME\n",
        "  -- exclude derived/transitive data\n",
        ");\n",
        "Step 2: Store address info separately (already exists in Sakila):\n",
        "CREATE TABLE address (\n",
        "  address_id SMALLINT PRIMARY KEY,\n",
        "  address VARCHAR(50),\n",
        "  postal_code VARCHAR(10),\n",
        "  phone VARCHAR(20),\n",
        "  city_id SMALLINT\n",
        ");\n",
        "Step 3: Store city and country independently:\n",
        "CREATE TABLE city (\n",
        "  city_id SMALLINT PRIMARY KEY,\n",
        "  city VARCHAR(50),\n",
        "  country_id SMALLINT\n",
        ");\n",
        "\n",
        "CREATE TABLE country (\n",
        "  country_id SMALLINT PRIMARY KEY,\n",
        "  country VARCHAR(50)\n",
        ");\n"
      ],
      "metadata": {
        "id": "HTHnFdJ6hShN"
      }
    },
    {
      "cell_type": "markdown",
      "source": [
        "#4.Normalization Process:\n",
        "a.Take a specific table in Sakila and guide through the process of normalizing it from the initial unnormalized form up to atleast 2NF.\n",
        "Target Table:actor_award\n",
        "This table is ideal because it has common normalization issues such as:\n",
        "Multi-valued fields (violating 1NF)\n",
        "Partial and transitive dependencies (violating 2NF and 3NF)\n",
        "Unnormalized Form (UNF)\n",
        "Suppose we start with this unnormalized table:\n",
        "| actor_award_id | actor_name         | awards                   |\n",
        "|----------------|--------------------|---------------------------|\n",
        "| 1              | Karl Berry         | Emmy, Oscar, Tony         |\n",
        "| 2              | Kirsten Paltrow    | Oscar                     |\n",
        "| 3              | Gary Phoenix       | Emmy, Tony                |\n",
        "Problems:\n",
        "Multi-valued field: awards contains multiple values (comma-separated).\n",
        "No atomicity.\n",
        "No separation between actor_name and its components.\n",
        "Step 1: First Normal Form (1NF)\n",
        "Goal:\n",
        "Ensure all fields are atomic.\n",
        "Eliminate repeating groups or multi-valued columns.\n",
        "Transformation:\n",
        "Split multi-valued awards into separate rows and split actor name:\n",
        "| actor_award_id | actor_first_name | actor_last_name | award   |\n",
        "|----------------|------------------|------------------|---------|\n",
        "| 1              | Karl             | Berry            | Emmy    |\n",
        "| 1              | Karl             | Berry            | Oscar   |\n",
        "| 1              | Karl             | Berry            | Tony    |\n",
        "| 2              | Kirsten          | Paltrow          | Oscar   |\n",
        "| 3              | Gary             | Phoenix          | Emmy    |\n",
        "| 3              | Gary             | Phoenix          | Tony    |\n",
        "Still not normalized fully — we have data duplication for names and award titles.\n",
        "Step 2: Second Normal Form (2NF)\n",
        "Goal:\n",
        "Eliminate partial dependencies (non-key attributes must depend on the whole primary key).\n",
        "Requires the table to already be in 1NF.\n",
        "Issue:\n",
        "In a composite key like (actor_first_name, actor_last_name, award), attributes like actor_first_name and actor_last_name don't depend on the full key.\n",
        "Solution:\n",
        "Break into two tables:\n",
        "Table 1:actor\n",
        "| actor_id | first_name | last_name |\n",
        "|----------|------------|-----------|\n",
        "| 1        | Karl       | Berry     |\n",
        "| 2        | Kirsten    | Paltrow   |\n",
        "| 3        | Gary       | Phoenix   |\n",
        "Table 2:award\n",
        "| award_id | award_name |\n",
        "|----------|------------|\n",
        "| 1        | Emmy       |\n",
        "| 2        | Oscar      |\n",
        "| 3        | Tony       |\n",
        "Table 3: actor_award_mapping (Bridge Table)\n",
        "| actor_id | award_id |\n",
        "|----------|----------|\n",
        "| 1        | 1        |\n",
        "| 1        | 2        |\n",
        "| 1        | 3        |\n",
        "| 2        | 2        |\n",
        "| 3        | 1        |\n",
        "| 3        | 3        |\n",
        "Step 3: Third Normal Form (3NF)\n",
        "Goal:\n",
        "Remove transitive dependencies (non-key → non-key dependencies).\n",
        "Result:\n",
        "We already split:\n",
        "Actor names from the mapping,\n",
        "Award names into a separate table.\n",
        "All non-key attributes in each table depend only on the primary key of their respective tables, and not on other non-key attributes.\n",
        "Hence, the structure is now in 3NF.\n",
        "Final Normalized Structure:\n",
        "actor\n",
        "CREATE TABLE actor (\n",
        "  actor_id SMALLINT PRIMARY KEY AUTO_INCREMENT,\n",
        "  first_name VARCHAR(45),\n",
        "  last_name VARCHAR(45)\n",
        ");\n",
        "award\n",
        "CREATE TABLE award (\n",
        "  award_id SMALLINT PRIMARY KEY AUTO_INCREMENT,\n",
        "  award_name VARCHAR(45)\n",
        ");\n",
        "actor_award_mapping\n",
        "CREATE TABLE actor_award_mapping (\n",
        "  actor_id SMALLINT,\n",
        "  award_id SMALLINT,\n",
        "  PRIMARY KEY (actor_id, award_id),\n",
        "  FOREIGN KEY (actor_id) REFERENCES actor(actor_id),\n",
        "  FOREIGN KEY (award_id) REFERENCES award(award_id)\n",
        ");\n",
        "\n",
        "\n",
        "\n",
        "\n"
      ],
      "metadata": {
        "id": "YYVBSEdCia2p"
      }
    },
    {
      "cell_type": "markdown",
      "source": [
        "#5.CTE Basics:\n",
        "a. Write a query using a CTE to retrieve the distinct list of actor names and the number of films they have acted in from the actor and film_actor tables.\n",
        "CTE (Common Table Expression) query that retrieves the distinct list of actor names along with the number of films they have acted in from the actor and film_actor tables in the Sakila (MavenMovies) database\n",
        "WITH actor_film_count AS (\n",
        "    SELECT\n",
        "        fa.actor_id,\n",
        "        COUNT(fa.film_id) AS film_count\n",
        "    FROM film_actor fa\n",
        "    GROUP BY fa.actor_id\n",
        ")\n",
        "SELECT\n",
        "    a.actor_id,\n",
        "    CONCAT(a.first_name, ' ', a.last_name) AS actor_name,\n",
        "    afc.film_count\n",
        "FROM actor a\n",
        "JOIN actor_film_count afc ON a.actor_id = afc.actor_id\n",
        "ORDER BY afc.film_count DESC;\n",
        "\n",
        "actor_film_count: This CTE calculates the number of films per actor from the film_actor table.\n",
        "The main query joins the actor table with the CTE to get the actor name and the film count.\n",
        "CONCAT(first_name, ' ', last_name) gives the full name.\n",
        "ORDER BY afc.film_count DESC lists actors starting from the one with the most films.\n",
        "\n",
        "\n"
      ],
      "metadata": {
        "id": "CFjOhh0gkJz8"
      }
    },
    {
      "cell_type": "markdown",
      "source": [
        "#6.CTE with Joins:\n",
        "a.Create a CTE that combines information from the film and language tables to display the film title, language name, and rental rate.\n",
        "WITH film_language_cte AS (\n",
        "    SELECT\n",
        "        f.film_id,\n",
        "        f.title,\n",
        "        f.rental_rate,\n",
        "        l.name AS language_name\n",
        "    FROM film f\n",
        "    JOIN language l ON f.language_id = l.language_id\n",
        ")\n",
        "\n",
        "SELECT\n",
        "    film_id,\n",
        "    title,\n",
        "    language_name,\n",
        "    rental_rate\n",
        "FROM film_language_cte\n",
        "ORDER BY title;\n",
        "CTE Name: film_language_cte\n",
        "\n",
        "Join: Matches film.language_id with language.language_id\n",
        "\n",
        "Selected Fields: film.title, language.name (as language_name), and film.rental_rate\n",
        "\n",
        "Final SELECT: Reads from the CTE and orders by title for readability.\n",
        "\n"
      ],
      "metadata": {
        "id": "XUYp-MhtkxTH"
      }
    },
    {
      "cell_type": "markdown",
      "source": [
        "#7.CTE for Aggregation:\n",
        "a.Write a query using a CTE to find the total revenue generated by each customer (sum of payments) from the customer and payment table.\n",
        "SQL Query Using CTE for Aggregation:\n",
        "WITH customer_revenue AS (\n",
        "    SELECT\n",
        "        p.customer_id,\n",
        "        SUM(p.amount) AS total_revenue\n",
        "    FROM payment p\n",
        "    GROUP BY p.customer_id\n",
        ")\n",
        "\n",
        "SELECT\n",
        "    c.customer_id,\n",
        "    CONCAT(c.first_name, ' ', c.last_name) AS customer_name,\n",
        "    cr.total_revenue\n",
        "FROM customer c\n",
        "JOIN customer_revenue cr ON c.customer_id = cr.customer_id\n",
        "ORDER BY cr.total_revenue DESC;\n",
        "Explanation:\n",
        "CTE Name: customer_revenue\n",
        "CTE Role: Aggregates total payment (SUM(amount)) per customer_id\n",
        "Main Query: Joins the CTE with the customer table to display:\n",
        "customer_id\n",
        "Full name (first_name + last_name)\n",
        "total_revenue\n",
        "Ordered by highest revenue customers first."
      ],
      "metadata": {
        "id": "uZQ9K05SlK-W"
      }
    },
    {
      "cell_type": "markdown",
      "source": [
        "#8.CTE with Window Functions:\n",
        "a.Utilize a CTE with a window function to rank films based on their rental duration from the film table.\n",
        "a SQL query that uses a CTE (Common Table Expression) along with a window function (RANK()) to rank films by their rental duration from the film table.\n",
        "WITH film_ranks AS (\n",
        "    SELECT\n",
        "        film_id,\n",
        "        title,\n",
        "        rental_duration,\n",
        "        RANK() OVER (ORDER BY rental_duration DESC) AS rental_rank\n",
        "    FROM film\n",
        ")\n",
        "SELECT\n",
        "    film_id,\n",
        "    title,\n",
        "    rental_duration,\n",
        "    rental_rank\n",
        "FROM film_ranks\n",
        "ORDER BY rental_rank, title;\n",
        "Explanation:\n",
        "CTE Name: film_ranks\n",
        "Window Function: RANK() OVER (ORDER BY rental_duration DESC) assigns a rank to each film, with longer rental durations getting a higher rank (i.e., lower number).\n",
        "Final SELECT: Lists films with their rank and sorts them by rank and title for clarity.\n"
      ],
      "metadata": {
        "id": "w5VT_Z22lqrb"
      }
    },
    {
      "cell_type": "markdown",
      "source": [
        "#9.CTE and Filtering:\n",
        "a.Create a CTE to list customers who have made more than two rentals, and then join this CTE with the customer table  to retrieve additional customer details.\n",
        "SQL query that uses a CTE (Common Table Expression) to:\n",
        "Identify customers who have made more than two rentals from the rental table.\n",
        "Join this result with the customer table to get full customer details.\n",
        "WITH frequent_customers AS (\n",
        "    SELECT\n",
        "        customer_id,\n",
        "        COUNT(rental_id) AS rental_count\n",
        "    FROM rental\n",
        "    GROUP BY customer_id\n",
        "    HAVING COUNT(rental_id) > 2\n",
        ")\n",
        "SELECT\n",
        "    c.customer_id,\n",
        "    CONCAT(c.first_name, ' ', c.last_name) AS customer_name,\n",
        "    c.email,\n",
        "    c.store_id,\n",
        "    fc.rental_count\n",
        "FROM customer c\n",
        "JOIN frequent_customers fc ON c.customer_id = fc.customer_id\n",
        "ORDER BY fc.rental_count DESC;\n",
        "Explanation:\n",
        "CTE Name: frequent_customers\n",
        "Aggregates number of rentals per customer.\n",
        "Filters to only include those with more than 2 rentals.\n",
        "Main Query:\n",
        "Joins frequent_customers with customer to retrieve:\n",
        "customer_id, full name, email, store ID, and rental count.\n",
        "Ordering by rental count in descending order to see the most active customers first.\n",
        "\n",
        "\n",
        "\n"
      ],
      "metadata": {
        "id": "iXrzfvM6mFRd"
      }
    },
    {
      "cell_type": "markdown",
      "source": [
        "#10.CTE for Date Calculations:\n",
        "a.Write a query using a CTE to find the total number of rentals made each month, considering the rental_date from the rental table.\n",
        "a SQL query using a CTE (Common Table Expression) to calculate the total number of rentals made each month based on the rental_date column in the rental table.\n",
        "WITH monthly_rentals AS (\n",
        "    SELECT\n",
        "        DATE_FORMAT(rental_date, '%Y-%m') AS rental_month,\n",
        "        COUNT(*) AS total_rentals\n",
        "    FROM rental\n",
        "    GROUP BY DATE_FORMAT(rental_date, '%Y-%m')\n",
        ")\n",
        "SELECT\n",
        "    rental_month,\n",
        "    total_rentals\n",
        "FROM monthly_rentals\n",
        "ORDER BY rental_month;\n",
        "Explanation:\n",
        "CTE Name: monthly_rentals\n",
        "DATE_FORMAT(rental_date, '%Y-%m') extracts the year and month from the rental date.\n",
        "COUNT(*) counts the number of rentals per month.\n",
        "The outer query simply retrieves and displays the monthly summary.\n"
      ],
      "metadata": {
        "id": "Us-VMPCtmqXK"
      }
    },
    {
      "cell_type": "markdown",
      "source": [
        "#11.CTE and Self-Join:\n",
        "a.Create a CTE to generate a report showing pairs of actors who have appeared in the same film together, using the film_actor table.\n",
        "To generate a report of actor pairs who have appeared in the same film together, you can use a CTE with a self-join on the film_actor table.\n",
        "SQL Query Using CTE and Self-Join:\n",
        "WITH film_actor_pairs AS (\n",
        "    SELECT\n",
        "        fa1.film_id,\n",
        "        fa1.actor_id AS actor1_id,\n",
        "        fa2.actor_id AS actor2_id\n",
        "    FROM film_actor fa1\n",
        "    JOIN film_actor fa2\n",
        "        ON fa1.film_id = fa2.film_id\n",
        "       AND fa1.actor_id < fa2.actor_id  -- avoid duplicates and self-pairs\n",
        ")\n",
        "SELECT\n",
        "    fap.film_id,\n",
        "    CONCAT(a1.first_name, ' ', a1.last_name) AS actor_1,\n",
        "    CONCAT(a2.first_name, ' ', a2.last_name) AS actor_2\n",
        "FROM film_actor_pairs fap\n",
        "JOIN actor a1 ON fap.actor1_id = a1.actor_id\n",
        "JOIN actor a2 ON fap.actor2_id = a2.actor_id\n",
        "ORDER BY fap.film_id, actor_1, actor_2;\n",
        "Explanation:\n",
        "CTE Name: film_actor_pairs\n",
        "Performs a self-join on film_actor for each film.\n",
        "Uses fa1.actor_id < fa2.actor_id to:\n",
        "Avoid duplicate pairs (A,B and B,A),\n",
        "Exclude self-pairs (A,A).\n",
        "Main Query: Joins with the actor table to get readable actor names.\n",
        "\n",
        "\n"
      ],
      "metadata": {
        "id": "_SJbj1hQnaxk"
      }
    },
    {
      "cell_type": "markdown",
      "source": [
        "#12.CTE for Recursive Search:\n",
        "a.Implement a recursive CTE to find all employees in the staff table who report to a specific manager, considering the reports_to column.\n",
        "To implement a recursive CTE that finds all employees who report to a specific manager, directly or indirectly, based on a reports_to column in the staff table, we follow these steps:\n",
        "-- Replace :manager_id with the actual manager's staff_id (e.g., 1)\n",
        "WITH RECURSIVE staff_hierarchy AS (\n",
        "    -- Anchor member: direct reports to the given manager\n",
        "    SELECT\n",
        "        staff_id,\n",
        "        first_name,\n",
        "        last_name,\n",
        "        reports_to\n",
        "    FROM staff\n",
        "    WHERE reports_to = :manager_id\n",
        "\n",
        "    UNION ALL\n",
        "\n",
        "    -- Recursive member: find employees who report to staff found in the previous step\n",
        "    SELECT\n",
        "        s.staff_id,\n",
        "        s.first_name,\n",
        "        s.last_name,\n",
        "        s.reports_to\n",
        "    FROM staff s\n",
        "    INNER JOIN staff_hierarchy sh ON s.reports_to = sh.staff_id\n",
        ")\n",
        "\n",
        "SELECT\n",
        "    staff_id,\n",
        "    CONCAT(first_name, ' ', last_name) AS employee_name,\n",
        "    reports_to\n",
        "FROM staff_hierarchy;\n",
        "Explanation:\n",
        "Anchor Query: Selects employees who directly report to the specified manager.\n",
        "Recursive Query: Iteratively finds staff who report to those staff, forming a hierarchy.\n",
        "The recursion continues until no more indirect reports are found.\n",
        "Example:\n",
        "If manager with staff_id = 1 has:\n",
        "Employee A reporting to them,\n",
        "Employee B reporting to A,\n",
        "Employee C reporting to B,\n",
        "Then the query will return A, B, and C.\n",
        "\n",
        "\n",
        "\n",
        "\n"
      ],
      "metadata": {
        "id": "SgxkJJvAn6WU"
      }
    }
  ]
}